{
 "cells": [
  {
   "cell_type": "markdown",
   "metadata": {},
   "source": [
    "# Advanced Weaviate Vector Database Tutorial\n",
    "\n",
    "This notebook demonstrates advanced usage of Weaviate using the custom `WeaviateCloudClient` wrapper. We'll cover:\n",
    "\n",
    "1. Using the custom `WeaviateCloudClient` wrapper\n",
    "2. Creating collections with different vectorizers\n",
    "3. Batch data import\n",
    "4. Advanced querying techniques\n",
    "5. Error handling and fallbacks\n",
    "\n",
    "## Prerequisites\n",
    "\n",
    "- A Weaviate Cloud account\n",
    "- API keys for Weaviate and OpenRouter/OpenAI\n",
    "- Environment variables set in a `.env` file"
   ]
  },
  {
   "cell_type": "code",
   "execution_count": 39,
   "metadata": {},
   "outputs": [
    {
     "name": "stdout",
     "output_type": "stream",
     "text": [
      "Requirement already satisfied: weaviate-client in d:\\llm_ops\\vector_databases\\.venv\\lib\\site-packages (4.14.1)\n",
      "Requirement already satisfied: python-dotenv in d:\\llm_ops\\vector_databases\\.venv\\lib\\site-packages (1.1.0)\n",
      "Requirement already satisfied: requests in d:\\llm_ops\\vector_databases\\.venv\\lib\\site-packages (2.32.3)\n",
      "Requirement already satisfied: httpx<0.29.0,>=0.26.0 in d:\\llm_ops\\vector_databases\\.venv\\lib\\site-packages (from weaviate-client) (0.28.1)\n",
      "Requirement already satisfied: validators==0.34.0 in d:\\llm_ops\\vector_databases\\.venv\\lib\\site-packages (from weaviate-client) (0.34.0)\n",
      "Requirement already satisfied: authlib<1.3.2,>=1.2.1 in d:\\llm_ops\\vector_databases\\.venv\\lib\\site-packages (from weaviate-client) (1.3.1)\n",
      "Requirement already satisfied: pydantic<3.0.0,>=2.8.0 in d:\\llm_ops\\vector_databases\\.venv\\lib\\site-packages (from weaviate-client) (2.11.4)\n",
      "Requirement already satisfied: grpcio<2.0.0,>=1.66.2 in d:\\llm_ops\\vector_databases\\.venv\\lib\\site-packages (from weaviate-client) (1.72.0rc1)\n",
      "Requirement already satisfied: grpcio-tools<2.0.0,>=1.66.2 in d:\\llm_ops\\vector_databases\\.venv\\lib\\site-packages (from weaviate-client) (1.71.0)\n",
      "Requirement already satisfied: grpcio-health-checking<2.0.0,>=1.66.2 in d:\\llm_ops\\vector_databases\\.venv\\lib\\site-packages (from weaviate-client) (1.71.0)\n",
      "Requirement already satisfied: deprecation<3.0.0,>=2.1.0 in d:\\llm_ops\\vector_databases\\.venv\\lib\\site-packages (from weaviate-client) (2.1.0)\n",
      "Requirement already satisfied: cryptography in d:\\llm_ops\\vector_databases\\.venv\\lib\\site-packages (from authlib<1.3.2,>=1.2.1->weaviate-client) (44.0.3)\n",
      "Requirement already satisfied: packaging in d:\\llm_ops\\vector_databases\\.venv\\lib\\site-packages (from deprecation<3.0.0,>=2.1.0->weaviate-client) (24.2)\n",
      "Requirement already satisfied: protobuf<6.0dev,>=5.26.1 in d:\\llm_ops\\vector_databases\\.venv\\lib\\site-packages (from grpcio-health-checking<2.0.0,>=1.66.2->weaviate-client) (5.29.4)\n",
      "Requirement already satisfied: setuptools in d:\\llm_ops\\vector_databases\\.venv\\lib\\site-packages (from grpcio-tools<2.0.0,>=1.66.2->weaviate-client) (65.5.0)\n",
      "Requirement already satisfied: anyio in d:\\llm_ops\\vector_databases\\.venv\\lib\\site-packages (from httpx<0.29.0,>=0.26.0->weaviate-client) (4.9.0)\n",
      "Requirement already satisfied: certifi in d:\\llm_ops\\vector_databases\\.venv\\lib\\site-packages (from httpx<0.29.0,>=0.26.0->weaviate-client) (2025.4.26)\n",
      "Requirement already satisfied: httpcore==1.* in d:\\llm_ops\\vector_databases\\.venv\\lib\\site-packages (from httpx<0.29.0,>=0.26.0->weaviate-client) (1.0.9)\n",
      "Requirement already satisfied: idna in d:\\llm_ops\\vector_databases\\.venv\\lib\\site-packages (from httpx<0.29.0,>=0.26.0->weaviate-client) (3.10)\n",
      "Requirement already satisfied: h11>=0.16 in d:\\llm_ops\\vector_databases\\.venv\\lib\\site-packages (from httpcore==1.*->httpx<0.29.0,>=0.26.0->weaviate-client) (0.16.0)\n",
      "Requirement already satisfied: annotated-types>=0.6.0 in d:\\llm_ops\\vector_databases\\.venv\\lib\\site-packages (from pydantic<3.0.0,>=2.8.0->weaviate-client) (0.7.0)\n",
      "Requirement already satisfied: pydantic-core==2.33.2 in d:\\llm_ops\\vector_databases\\.venv\\lib\\site-packages (from pydantic<3.0.0,>=2.8.0->weaviate-client) (2.33.2)\n",
      "Requirement already satisfied: typing-extensions>=4.12.2 in d:\\llm_ops\\vector_databases\\.venv\\lib\\site-packages (from pydantic<3.0.0,>=2.8.0->weaviate-client) (4.13.2)\n",
      "Requirement already satisfied: typing-inspection>=0.4.0 in d:\\llm_ops\\vector_databases\\.venv\\lib\\site-packages (from pydantic<3.0.0,>=2.8.0->weaviate-client) (0.4.0)\n",
      "Requirement already satisfied: charset-normalizer<4,>=2 in d:\\llm_ops\\vector_databases\\.venv\\lib\\site-packages (from requests) (3.4.2)\n",
      "Requirement already satisfied: urllib3<3,>=1.21.1 in d:\\llm_ops\\vector_databases\\.venv\\lib\\site-packages (from requests) (2.4.0)\n",
      "Requirement already satisfied: exceptiongroup>=1.0.2 in d:\\llm_ops\\vector_databases\\.venv\\lib\\site-packages (from anyio->httpx<0.29.0,>=0.26.0->weaviate-client) (1.3.0)\n",
      "Requirement already satisfied: sniffio>=1.1 in d:\\llm_ops\\vector_databases\\.venv\\lib\\site-packages (from anyio->httpx<0.29.0,>=0.26.0->weaviate-client) (1.3.1)\n",
      "Requirement already satisfied: cffi>=1.12 in d:\\llm_ops\\vector_databases\\.venv\\lib\\site-packages (from cryptography->authlib<1.3.2,>=1.2.1->weaviate-client) (1.17.1)\n",
      "Requirement already satisfied: pycparser in d:\\llm_ops\\vector_databases\\.venv\\lib\\site-packages (from cffi>=1.12->cryptography->authlib<1.3.2,>=1.2.1->weaviate-client) (2.22)\n",
      "Note: you may need to restart the kernel to use updated packages.\n"
     ]
    }
   ],
   "source": [
    "# Install required packages\n",
    "%pip install weaviate-client python-dotenv requests"
   ]
  },
  {
   "cell_type": "markdown",
   "metadata": {},
   "source": [
    "## 1. Setting Up Environment and Imports"
   ]
  },
  {
   "cell_type": "code",
   "execution_count": 40,
   "metadata": {},
   "outputs": [],
   "source": [
    "import os\n",
    "import time\n",
    "import json\n",
    "from dotenv import load_dotenv\n",
    "import requests\n",
    "\n",
    "# Import our custom WeaviateCloudClient\n",
    "from weaviate_client_v4 import WeaviateCloudClient"
   ]
  },
  {
   "cell_type": "code",
   "execution_count": 41,
   "metadata": {},
   "outputs": [
    {
     "name": "stdout",
     "output_type": "stream",
     "text": [
      "WEAVIATE_URL: Set\n",
      "WEAVIATE_API_KEY: Set\n",
      "OPENROUTER_API_KEY: Set\n",
      "OPENAI_API_KEY: Not set\n",
      "✅ Required environment variables loaded.\n"
     ]
    }
   ],
   "source": [
    "# Load environment variables from .env file\n",
    "load_dotenv()\n",
    "\n",
    "# Verify environment variables\n",
    "WEAVIATE_URL = os.getenv(\"WEAVIATE_URL\")\n",
    "WEAVIATE_API_KEY = os.getenv(\"WEAVIATE_API_KEY\")\n",
    "OPENROUTER_API_KEY = os.getenv(\"OPENROUTER_API_KEY\")\n",
    "OPENAI_API_KEY = os.getenv(\"OPENAI_API_KEY\")\n",
    "\n",
    "# Print environment variable status (masked for security)\n",
    "print(f\"WEAVIATE_URL: {'Set' if WEAVIATE_URL else 'Not set'}\")\n",
    "print(f\"WEAVIATE_API_KEY: {'Set' if WEAVIATE_API_KEY else 'Not set'}\")\n",
    "print(f\"OPENROUTER_API_KEY: {'Set' if OPENROUTER_API_KEY else 'Not set'}\")\n",
    "print(f\"OPENAI_API_KEY: {'Set' if OPENAI_API_KEY else 'Not set'}\")\n",
    "\n",
    "# Verify required variables\n",
    "if not all([WEAVIATE_URL, WEAVIATE_API_KEY]):\n",
    "    print(\"⚠️ Warning: Required environment variables are missing. Check your .env file.\")\n",
    "else:\n",
    "    print(\"✅ Required environment variables loaded.\")"
   ]
  },
  {
   "cell_type": "markdown",
   "metadata": {},
   "source": [
    "## 2. Connecting to Weaviate using WeaviateCloudClient\n",
    "\n",
    "The `WeaviateCloudClient` is a custom wrapper around the Weaviate v4 client that provides additional functionality and error handling."
   ]
  },
  {
   "cell_type": "code",
   "execution_count": 42,
   "metadata": {},
   "outputs": [
    {
     "name": "stderr",
     "output_type": "stream",
     "text": [
      "2025-05-12 22:13:49,606 - weaviate_client_v4 - INFO - Initialized Weaviate Cloud client for URL: nrdv2vfqrjogir9kivhsg.c0.asia-southeast1.gcp.weaviate.cloud\n"
     ]
    },
    {
     "name": "stdout",
     "output_type": "stream",
     "text": [
      "Creating WeaviateCloudClient instance...\n",
      "\n",
      "Connecting to Weaviate...\n"
     ]
    },
    {
     "name": "stderr",
     "output_type": "stream",
     "text": [
      "2025-05-12 22:13:50,655 - httpx - INFO - HTTP Request: GET https://nrdv2vfqrjogir9kivhsg.c0.asia-southeast1.gcp.weaviate.cloud/v1/meta \"HTTP/1.1 200 OK\"\n",
      "2025-05-12 22:13:50,714 - weaviate_client_v4 - INFO - Connected to Weaviate Cloud at nrdv2vfqrjogir9kivhsg.c0.asia-southeast1.gcp.weaviate.cloud\n",
      "2025-05-12 22:13:50,904 - httpx - INFO - HTTP Request: GET https://nrdv2vfqrjogir9kivhsg.c0.asia-southeast1.gcp.weaviate.cloud/v1/meta \"HTTP/1.1 200 OK\"\n"
     ]
    },
    {
     "name": "stdout",
     "output_type": "stream",
     "text": [
      "✅ Connected to Weaviate\n",
      "\n",
      "Meta Information:\n",
      "  Version: 1.30.1\n",
      "  Hostname: http://[::]:8080\n"
     ]
    }
   ],
   "source": [
    "# Create a client instance\n",
    "print(\"Creating WeaviateCloudClient instance...\")\n",
    "client = WeaviateCloudClient()\n",
    "\n",
    "# Connect to Weaviate\n",
    "print(\"\\nConnecting to Weaviate...\")\n",
    "try:\n",
    "    client.connect()\n",
    "    print(\"✅ Connected to Weaviate\")\n",
    "    \n",
    "    # Get meta information\n",
    "    meta_info = client.get_meta_info()\n",
    "    print(\"\\nMeta Information:\")\n",
    "    print(f\"  Version: {meta_info.get('version', 'N/A')}\")\n",
    "    print(f\"  Hostname: {meta_info.get('hostname', 'N/A')}\")\n",
    "    \n",
    "except Exception as e:\n",
    "    print(f\"❌ Failed to connect: {e}\")"
   ]
  },
  {
   "cell_type": "markdown",
   "metadata": {},
   "source": [
    "## 3. Listing Existing Collections\n",
    "\n",
    "Let's see what collections already exist in our Weaviate instance."
   ]
  },
  {
   "cell_type": "code",
   "execution_count": 43,
   "metadata": {},
   "outputs": [
    {
     "name": "stderr",
     "output_type": "stream",
     "text": [
      "2025-05-12 22:13:51,102 - httpx - INFO - HTTP Request: GET https://nrdv2vfqrjogir9kivhsg.c0.asia-southeast1.gcp.weaviate.cloud/v1/schema \"HTTP/1.1 200 OK\"\n"
     ]
    },
    {
     "name": "stdout",
     "output_type": "stream",
     "text": [
      "Existing collections:\n",
      "  No collections found.\n"
     ]
    }
   ],
   "source": [
    "try:\n",
    "    collections = client.list_collections()\n",
    "    print(\"Existing collections:\")\n",
    "    if collections:\n",
    "        for i, collection in enumerate(collections):\n",
    "            print(f\"  {i+1}. {collection}\")\n",
    "    else:\n",
    "        print(\"  No collections found.\")\n",
    "except Exception as e:\n",
    "    print(f\"❌ Failed to list collections: {e}\")"
   ]
  },
  {
   "cell_type": "markdown",
   "metadata": {},
   "source": [
    "## 4. Creating a Collection\n",
    "\n",
    "Let's create a new collection for storing articles."
   ]
  },
  {
   "cell_type": "code",
   "execution_count": 44,
   "metadata": {},
   "outputs": [
    {
     "name": "stdout",
     "output_type": "stream",
     "text": [
      "Checking if Articles exists...\n"
     ]
    },
    {
     "name": "stderr",
     "output_type": "stream",
     "text": [
      "2025-05-12 22:13:51,766 - httpx - INFO - HTTP Request: GET https://nrdv2vfqrjogir9kivhsg.c0.asia-southeast1.gcp.weaviate.cloud/v1/schema \"HTTP/1.1 200 OK\"\n"
     ]
    },
    {
     "name": "stdout",
     "output_type": "stream",
     "text": [
      "  Articles does not exist\n",
      "\n",
      "Creating Articles collection...\n"
     ]
    },
    {
     "name": "stderr",
     "output_type": "stream",
     "text": [
      "2025-05-12 22:13:52,333 - weaviate_client_v4 - INFO - Response status: 200\n",
      "2025-05-12 22:13:52,333 - weaviate_client_v4 - INFO - Response content: {\"class\":\"Articles\",\"invertedIndexConfig\":{\"bm25\":{\"b\":0.75,\"k1\":1.2},\"cleanupIntervalSeconds\":60,\"stopwords\":{\"additions\":null,\"preset\":\"en\",\"removals\":null},\"usingBlockMaxWAND\":true},\"multiTenancyConfig\":{\"autoTenantActivation\":false,\"autoTenantCreation\":false,\"enabled\":false},\"properties\":[{\"dataType\":[\"text\"],\"description\":\"Title of the article\",\"indexFilterable\":true,\"indexRangeFilters\":false,\"indexSearchable\":true,\"name\":\"title\",\"tokenization\":\"word\"},{\"dataType\":[\"text\"],\"description\":\"Content of the article\",\"indexFilterable\":true,\"indexRangeFilters\":false,\"indexSearchable\":true,\"name\":\"content\",\"tokenization\":\"word\"},{\"dataType\":[\"text\"],\"description\":\"Category of the article\",\"indexFilterable\":true,\"indexRangeFilters\":false,\"indexSearchable\":true,\"name\":\"category\",\"tokenization\":\"word\"},{\"dataType\":[\"date\"],\"description\":\"Publication date\",\"indexFilterable\":true,\"indexRangeFilters\":false,\"indexSearchable\":false,\"name\":\"publishDate\"}],\"replicationConfig\":{\"asyncEnabled\":false,\"deletionStrategy\":\"NoAutomatedResolution\",\"factor\":1},\"shardingConfig\":{\"virtualPerPhysical\":128,\"desiredCount\":1,\"actualCount\":1,\"desiredVirtualCount\":128,\"actualVirtualCount\":128,\"key\":\"_id\",\"strategy\":\"hash\",\"function\":\"murmur3\"},\"vectorIndexConfig\":{\"skip\":false,\"cleanupIntervalSeconds\":300,\"maxConnections\":32,\"efConstruction\":128,\"ef\":-1,\"dynamicEfMin\":100,\"dynamicEfMax\":500,\"dynamicEfFactor\":8,\"vectorCacheMaxObjects\":1000000000000,\"flatSearchCutoff\":40000,\"distance\":\"cosine\",\"pq\":{\"enabled\":false,\"bitCompression\":false,\"segments\":0,\"centroids\":256,\"trainingLimit\":100000,\"encoder\":{\"type\":\"kmeans\",\"distribution\":\"log-normal\"}},\"bq\":{\"enabled\":false},\"sq\":{\"enabled\":false,\"trainingLimit\":100000,\"rescoreLimit\":20},\"filterStrategy\":\"sweeping\",\"multivector\":{\"enabled\":false,\"aggregation\":\"maxSim\"}},\"vectorIndexType\":\"hnsw\",\"vectorizer\":\"none\"}\n",
      "\n",
      "2025-05-12 22:13:52,333 - weaviate_client_v4 - INFO - Created collection Articles using REST API\n"
     ]
    },
    {
     "name": "stdout",
     "output_type": "stream",
     "text": [
      "✅ Created Articles collection\n"
     ]
    }
   ],
   "source": [
    "# Define collection name\n",
    "collection_name = \"Articles\"\n",
    "\n",
    "# Check if collection exists and delete it\n",
    "print(f\"Checking if {collection_name} exists...\")\n",
    "collections = client.list_collections()\n",
    "if collection_name in collections:\n",
    "    print(f\"  {collection_name} exists, deleting it...\")\n",
    "    client.delete_collection(collection_name)\n",
    "    print(f\"✅ Deleted {collection_name}\")\n",
    "    time.sleep(2)  # Give it time to delete\n",
    "else:\n",
    "    print(f\"  {collection_name} does not exist\")\n",
    "\n",
    "# Define properties for the collection\n",
    "properties = [\n",
    "    {\n",
    "        \"name\": \"title\",\n",
    "        \"dataType\": [\"text\"],\n",
    "        \"description\": \"Title of the article\",\n",
    "    },\n",
    "    {\n",
    "        \"name\": \"content\",\n",
    "        \"dataType\": [\"text\"],\n",
    "        \"description\": \"Content of the article\",\n",
    "    },\n",
    "    {\n",
    "        \"name\": \"category\",\n",
    "        \"dataType\": [\"text\"],\n",
    "        \"description\": \"Category of the article\",\n",
    "    },\n",
    "    {\n",
    "        \"name\": \"publishDate\",\n",
    "        \"dataType\": [\"date\"],\n",
    "        \"description\": \"Publication date\",\n",
    "    }\n",
    "]\n",
    "\n",
    "# Create the collection\n",
    "print(f\"\\nCreating {collection_name} collection...\")\n",
    "try:\n",
    "    client.create_collection(collection_name, properties)\n",
    "    print(f\"✅ Created {collection_name} collection\")\n",
    "except Exception as e:\n",
    "    print(f\"❌ Failed to create collection: {e}\")"
   ]
  },
  {
   "cell_type": "markdown",
   "metadata": {},
   "source": [
    "## 5. Inserting Data\n",
    "\n",
    "Now let's insert some sample data into our collection."
   ]
  },
  {
   "cell_type": "code",
   "execution_count": 45,
   "metadata": {},
   "outputs": [
    {
     "name": "stderr",
     "output_type": "stream",
     "text": [
      "2025-05-12 22:13:52,483 - httpx - INFO - HTTP Request: POST https://nrdv2vfqrjogir9kivhsg.c0.asia-southeast1.gcp.weaviate.cloud/v1/objects \"HTTP/1.1 200 OK\"\n",
      "2025-05-12 22:13:52,512 - weaviate_client_v4 - INFO - Inserted object into Articles with ID: 99721c38-4d08-4c66-b353-362e72860c26\n"
     ]
    },
    {
     "name": "stdout",
     "output_type": "stream",
     "text": [
      "\n",
      "Inserting data...\n",
      "✅ Inserted article: 'Understanding Vector Databases' with ID: 99721c38-4d08-4c66-b353-362e72860c26\n"
     ]
    },
    {
     "name": "stderr",
     "output_type": "stream",
     "text": [
      "2025-05-12 22:13:52,653 - httpx - INFO - HTTP Request: POST https://nrdv2vfqrjogir9kivhsg.c0.asia-southeast1.gcp.weaviate.cloud/v1/objects \"HTTP/1.1 200 OK\"\n",
      "2025-05-12 22:13:52,653 - weaviate_client_v4 - INFO - Inserted object into Articles with ID: 85ded774-b751-4ff1-8c85-59999ef93894\n"
     ]
    },
    {
     "name": "stdout",
     "output_type": "stream",
     "text": [
      "✅ Inserted article: 'Machine Learning Basics' with ID: 85ded774-b751-4ff1-8c85-59999ef93894\n"
     ]
    },
    {
     "name": "stderr",
     "output_type": "stream",
     "text": [
      "2025-05-12 22:13:52,784 - httpx - INFO - HTTP Request: POST https://nrdv2vfqrjogir9kivhsg.c0.asia-southeast1.gcp.weaviate.cloud/v1/objects \"HTTP/1.1 200 OK\"\n",
      "2025-05-12 22:13:52,839 - weaviate_client_v4 - INFO - Inserted object into Articles with ID: 898231ca-345f-41a8-8e19-fc5e68cc7ffe\n",
      "2025-05-12 22:13:52,952 - httpx - INFO - HTTP Request: POST https://nrdv2vfqrjogir9kivhsg.c0.asia-southeast1.gcp.weaviate.cloud/v1/objects \"HTTP/1.1 200 OK\"\n",
      "2025-05-12 22:13:52,952 - weaviate_client_v4 - INFO - Inserted object into Articles with ID: 6b52194c-84af-4272-9847-7d3e80418550\n"
     ]
    },
    {
     "name": "stdout",
     "output_type": "stream",
     "text": [
      "✅ Inserted article: 'The Future of AI' with ID: 898231ca-345f-41a8-8e19-fc5e68cc7ffe\n",
      "✅ Inserted article: 'Data Science Trends' with ID: 6b52194c-84af-4272-9847-7d3e80418550\n",
      "\n",
      "Waiting for indexing to complete...\n"
     ]
    }
   ],
   "source": [
    "# Sample data to insert\n",
    "articles = [\n",
    "    {\n",
    "        \"title\": \"Understanding Vector Databases\",\n",
    "        \"content\": \"Vector databases store data as high-dimensional vectors, making them ideal for semantic search and AI applications.\",\n",
    "        \"category\": \"Technology\",\n",
    "        \"publishDate\": \"2023-01-15T00:00:00Z\"\n",
    "    },\n",
    "    {\n",
    "        \"title\": \"Machine Learning Basics\",\n",
    "        \"content\": \"Machine learning is a subset of artificial intelligence that enables systems to learn from data without explicit programming.\",\n",
    "        \"category\": \"Technology\",\n",
    "        \"publishDate\": \"2023-02-20T00:00:00Z\"\n",
    "    },\n",
    "    {\n",
    "        \"title\": \"The Future of AI\",\n",
    "        \"content\": \"Artificial intelligence continues to evolve, with new breakthroughs in natural language processing and computer vision.\",\n",
    "        \"category\": \"Technology\",\n",
    "        \"publishDate\": \"2023-03-10T00:00:00Z\"\n",
    "    },\n",
    "    {\n",
    "        \"title\": \"Data Science Trends\",\n",
    "        \"content\": \"Data science is rapidly evolving with new tools and techniques for analyzing and visualizing large datasets.\",\n",
    "        \"category\": \"Data Science\",\n",
    "        \"publishDate\": \"2023-04-05T00:00:00Z\"\n",
    "    }\n",
    "]\n",
    "\n",
    "# Insert articles\n",
    "print(\"\\nInserting data...\")\n",
    "for article in articles:\n",
    "    try:\n",
    "        object_id = client.insert_object(collection_name, article)\n",
    "        print(f\"✅ Inserted article: '{article['title']}' with ID: {object_id}\")\n",
    "    except Exception as e:\n",
    "        print(f\"❌ Failed to insert article '{article['title']}': {e}\")\n",
    "\n",
    "# Wait for indexing to complete\n",
    "print(\"\\nWaiting for indexing to complete...\")\n",
    "time.sleep(3)"
   ]
  },
  {
   "cell_type": "markdown",
   "metadata": {},
   "source": [
    "## 6. Querying Data\n",
    "\n",
    "Let's query the data we've inserted."
   ]
  },
  {
   "cell_type": "code",
   "execution_count": 46,
   "metadata": {},
   "outputs": [
    {
     "name": "stdout",
     "output_type": "stream",
     "text": [
      "\n",
      "Querying all objects...\n"
     ]
    },
    {
     "name": "stderr",
     "output_type": "stream",
     "text": [
      "2025-05-12 22:13:56,436 - weaviate_client_v4 - INFO - Retrieved 4 objects from Articles\n"
     ]
    },
    {
     "name": "stdout",
     "output_type": "stream",
     "text": [
      "✅ Retrieved 4 objects:\n",
      "  - Data Science Trends (Data Science)\n",
      "  - Machine Learning Basics (Technology)\n",
      "  - The Future of AI (Technology)\n",
      "  - Understanding Vector Databases (Technology)\n"
     ]
    }
   ],
   "source": [
    "# Query all objects\n",
    "print(\"\\nQuerying all objects...\")\n",
    "try:\n",
    "    objects = client.query_objects(collection_name, [\"title\", \"category\", \"publishDate\"], 10)\n",
    "    print(f\"✅ Retrieved {len(objects)} objects:\")\n",
    "    for obj in objects:\n",
    "        print(f\"  - {obj.get('title', 'N/A')} ({obj.get('category', 'N/A')})\")\n",
    "except Exception as e:\n",
    "    print(f\"❌ Failed to query objects: {e}\")"
   ]
  },
  {
   "cell_type": "markdown",
   "metadata": {},
   "source": [
    "## 7. Searching Data\n",
    "\n",
    "Let's try to search for articles using a text query. Note that this requires a vectorizer to be configured."
   ]
  },
  {
   "cell_type": "code",
   "execution_count": 47,
   "metadata": {},
   "outputs": [
    {
     "name": "stdout",
     "output_type": "stream",
     "text": [
      "\n",
      "Searching for articles about 'artificial intelligence'...\n"
     ]
    },
    {
     "name": "stderr",
     "output_type": "stream",
     "text": [
      "2025-05-12 22:13:56,881 - weaviate_client_v4 - INFO - Search for 'artificial intelligence' returned 0 objects from Articles\n"
     ]
    },
    {
     "name": "stdout",
     "output_type": "stream",
     "text": [
      "✅ Found 0 results:\n"
     ]
    }
   ],
   "source": [
    "# Search for articles\n",
    "print(\"\\nSearching for articles about 'artificial intelligence'...\")\n",
    "try:\n",
    "    search_results = client.search_objects(collection_name, \"artificial intelligence\", [\"title\", \"content\", \"category\"], 5)\n",
    "    print(f\"✅ Found {len(search_results)} results:\")\n",
    "    for result in search_results:\n",
    "        print(f\"  - {result.get('title', 'N/A')} ({result.get('category', 'N/A')})\")\n",
    "        print(f\"    {result.get('content', 'N/A')}\")\n",
    "except Exception as e:\n",
    "    print(f\"❌ Search failed: {e}\")\n",
    "    print(\"   Note: Semantic search requires a vectorizer like text2vec-openai.\")\n",
    "    print(\"   The 'none' vectorizer used in this example doesn't support semantic search.\")"
   ]
  },
  {
   "cell_type": "markdown",
   "metadata": {},
   "source": [
    "## 8. Error Handling and Fallbacks\n",
    "\n",
    "The `WeaviateCloudClient` includes built-in error handling and fallbacks. Let's see how it handles errors."
   ]
  },
  {
   "cell_type": "code",
   "execution_count": 48,
   "metadata": {},
   "outputs": [
    {
     "name": "stdout",
     "output_type": "stream",
     "text": [
      "\n",
      "Trying to query a non-existent collection...\n"
     ]
    },
    {
     "name": "stderr",
     "output_type": "stream",
     "text": [
      "2025-05-12 22:13:57,333 - weaviate_client_v4 - INFO - Retrieved 0 objects from NonExistentCollection\n"
     ]
    },
    {
     "name": "stdout",
     "output_type": "stream",
     "text": [
      "Retrieved 0 objects\n"
     ]
    }
   ],
   "source": [
    "# Try to access a non-existent collection\n",
    "print(\"\\nTrying to query a non-existent collection...\")\n",
    "try:\n",
    "    objects = client.query_objects(\"NonExistentCollection\", [\"title\"], 10)\n",
    "    print(f\"Retrieved {len(objects)} objects\")\n",
    "except Exception as e:\n",
    "    print(f\"❌ Expected error: {e}\")\n",
    "    print(\"   The client attempted to handle this error gracefully.\")"
   ]
  },
  {
   "cell_type": "markdown",
   "metadata": {},
   "source": [
    "## 9. Cleaning Up\n",
    "\n",
    "Finally, let's clean up by deleting the collection we created."
   ]
  },
  {
   "cell_type": "code",
   "execution_count": 49,
   "metadata": {},
   "outputs": [
    {
     "name": "stdout",
     "output_type": "stream",
     "text": [
      "\n",
      "Cleaning up...\n"
     ]
    },
    {
     "name": "stderr",
     "output_type": "stream",
     "text": [
      "2025-05-12 22:13:57,647 - httpx - INFO - HTTP Request: DELETE https://nrdv2vfqrjogir9kivhsg.c0.asia-southeast1.gcp.weaviate.cloud/v1/schema/Articles \"HTTP/1.1 200 OK\"\n",
      "2025-05-12 22:13:57,647 - weaviate_client_v4 - INFO - Deleted collection: Articles\n",
      "2025-05-12 22:13:57,647 - weaviate_client_v4 - INFO - Closed connection to Weaviate Cloud\n"
     ]
    },
    {
     "name": "stdout",
     "output_type": "stream",
     "text": [
      "✅ Deleted Articles collection\n",
      "\n",
      "=== Example Complete ===\n"
     ]
    }
   ],
   "source": [
    "# Clean up\n",
    "print(\"\\nCleaning up...\")\n",
    "try:\n",
    "    client.delete_collection(collection_name)\n",
    "    print(f\"✅ Deleted {collection_name} collection\")\n",
    "except Exception as e:\n",
    "    print(f\"❌ Failed to delete collection: {e}\")\n",
    "\n",
    "# Close the client\n",
    "client.close()\n",
    "print(\"\\n=== Example Complete ===\")"
   ]
  },
  {
   "cell_type": "markdown",
   "metadata": {},
   "source": [
    "## 10. Understanding the WeaviateCloudClient Implementation\n",
    "\n",
    "The `WeaviateCloudClient` class provides a simplified interface to Weaviate with robust error handling. Here's a summary of its key features:\n",
    "\n",
    "1. **Automatic Environment Loading**: Loads credentials from environment variables\n",
    "2. **Robust Connection Handling**: Tries multiple connection methods if the primary one fails\n",
    "3. **REST API Fallbacks**: Falls back to REST API calls when gRPC operations fail\n",
    "4. **Simplified Methods**: Provides easy-to-use methods for common operations\n",
    "5. **Comprehensive Error Handling**: Catches and logs errors at multiple levels\n",
    "\n",
    "The client is designed to work with Weaviate Cloud instances and handles the complexities of the v4 API."
   ]
  },
  {
   "cell_type": "markdown",
   "metadata": {},
   "source": [
    "## Conclusion\n",
    "\n",
    "In this notebook, we've demonstrated how to use the custom `WeaviateCloudClient` wrapper to interact with Weaviate. This wrapper provides a simplified interface with robust error handling, making it easier to work with Weaviate in production environments.\n",
    "\n",
    "Key takeaways:\n",
    "- The `WeaviateCloudClient` simplifies common Weaviate operations\n",
    "- It provides fallback mechanisms when primary operations fail\n",
    "- It handles errors gracefully and provides detailed logging\n",
    "- It's designed specifically for Weaviate Cloud instances\n",
    "\n",
    "For more advanced use cases, you may want to use the native Weaviate v4 client directly, but the `WeaviateCloudClient` is a good starting point for many applications."
   ]
  }
 ],
 "metadata": {
  "kernelspec": {
   "display_name": ".venv",
   "language": "python",
   "name": "python3"
  },
  "language_info": {
   "codemirror_mode": {
    "name": "ipython",
    "version": 3
   },
   "file_extension": ".py",
   "mimetype": "text/x-python",
   "name": "python",
   "nbconvert_exporter": "python",
   "pygments_lexer": "ipython3",
   "version": "3.10.9"
  }
 },
 "nbformat": 4,
 "nbformat_minor": 4
}
