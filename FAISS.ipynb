{
 "cells": [
  {
   "cell_type": "code",
   "execution_count": 1,
   "id": "e84f3489",
   "metadata": {},
   "outputs": [
    {
     "name": "stdout",
     "output_type": "stream",
     "text": [
      "Requirement already satisfied: faiss-cpu in d:\\llm_ops\\vector_databases\\.venv\\lib\\site-packages (1.11.0)Note: you may need to restart the kernel to use updated packages.\n",
      "\n",
      "Requirement already satisfied: numpy in d:\\llm_ops\\vector_databases\\.venv\\lib\\site-packages (1.26.4)\n",
      "Requirement already satisfied: sentence-transformers in d:\\llm_ops\\vector_databases\\.venv\\lib\\site-packages (4.1.0)\n",
      "Requirement already satisfied: python-dotenv in d:\\llm_ops\\vector_databases\\.venv\\lib\\site-packages (1.1.0)\n",
      "Requirement already satisfied: packaging in d:\\llm_ops\\vector_databases\\.venv\\lib\\site-packages (from faiss-cpu) (24.2)\n",
      "Requirement already satisfied: transformers<5.0.0,>=4.41.0 in d:\\llm_ops\\vector_databases\\.venv\\lib\\site-packages (from sentence-transformers) (4.51.3)\n",
      "Requirement already satisfied: tqdm in d:\\llm_ops\\vector_databases\\.venv\\lib\\site-packages (from sentence-transformers) (4.67.1)\n",
      "Requirement already satisfied: torch>=1.11.0 in d:\\llm_ops\\vector_databases\\.venv\\lib\\site-packages (from sentence-transformers) (2.7.0)\n",
      "Requirement already satisfied: scikit-learn in d:\\llm_ops\\vector_databases\\.venv\\lib\\site-packages (from sentence-transformers) (1.6.1)\n",
      "Requirement already satisfied: scipy in d:\\llm_ops\\vector_databases\\.venv\\lib\\site-packages (from sentence-transformers) (1.15.3)\n",
      "Requirement already satisfied: huggingface-hub>=0.20.0 in d:\\llm_ops\\vector_databases\\.venv\\lib\\site-packages (from sentence-transformers) (0.31.1)\n",
      "Requirement already satisfied: Pillow in d:\\llm_ops\\vector_databases\\.venv\\lib\\site-packages (from sentence-transformers) (11.2.1)\n",
      "Requirement already satisfied: typing_extensions>=4.5.0 in d:\\llm_ops\\vector_databases\\.venv\\lib\\site-packages (from sentence-transformers) (4.13.2)\n",
      "Requirement already satisfied: filelock in d:\\llm_ops\\vector_databases\\.venv\\lib\\site-packages (from transformers<5.0.0,>=4.41.0->sentence-transformers) (3.18.0)\n",
      "Requirement already satisfied: pyyaml>=5.1 in d:\\llm_ops\\vector_databases\\.venv\\lib\\site-packages (from transformers<5.0.0,>=4.41.0->sentence-transformers) (6.0.2)\n",
      "Requirement already satisfied: regex!=2019.12.17 in d:\\llm_ops\\vector_databases\\.venv\\lib\\site-packages (from transformers<5.0.0,>=4.41.0->sentence-transformers) (2024.11.6)\n",
      "Requirement already satisfied: requests in d:\\llm_ops\\vector_databases\\.venv\\lib\\site-packages (from transformers<5.0.0,>=4.41.0->sentence-transformers) (2.32.3)\n",
      "Requirement already satisfied: tokenizers<0.22,>=0.21 in d:\\llm_ops\\vector_databases\\.venv\\lib\\site-packages (from transformers<5.0.0,>=4.41.0->sentence-transformers) (0.21.1)\n",
      "Requirement already satisfied: safetensors>=0.4.3 in d:\\llm_ops\\vector_databases\\.venv\\lib\\site-packages (from transformers<5.0.0,>=4.41.0->sentence-transformers) (0.5.3)\n",
      "Requirement already satisfied: fsspec>=2023.5.0 in d:\\llm_ops\\vector_databases\\.venv\\lib\\site-packages (from huggingface-hub>=0.20.0->sentence-transformers) (2025.3.2)\n",
      "Requirement already satisfied: sympy>=1.13.3 in d:\\llm_ops\\vector_databases\\.venv\\lib\\site-packages (from torch>=1.11.0->sentence-transformers) (1.14.0)\n",
      "Requirement already satisfied: networkx in d:\\llm_ops\\vector_databases\\.venv\\lib\\site-packages (from torch>=1.11.0->sentence-transformers) (3.4.2)\n",
      "Requirement already satisfied: jinja2 in d:\\llm_ops\\vector_databases\\.venv\\lib\\site-packages (from torch>=1.11.0->sentence-transformers) (3.1.6)\n",
      "Requirement already satisfied: mpmath<1.4,>=1.1.0 in d:\\llm_ops\\vector_databases\\.venv\\lib\\site-packages (from sympy>=1.13.3->torch>=1.11.0->sentence-transformers) (1.3.0)\n",
      "Requirement already satisfied: colorama in d:\\llm_ops\\vector_databases\\.venv\\lib\\site-packages (from tqdm->sentence-transformers) (0.4.6)\n",
      "Requirement already satisfied: MarkupSafe>=2.0 in d:\\llm_ops\\vector_databases\\.venv\\lib\\site-packages (from jinja2->torch>=1.11.0->sentence-transformers) (3.0.2)\n",
      "Requirement already satisfied: charset-normalizer<4,>=2 in d:\\llm_ops\\vector_databases\\.venv\\lib\\site-packages (from requests->transformers<5.0.0,>=4.41.0->sentence-transformers) (3.4.2)\n",
      "Requirement already satisfied: idna<4,>=2.5 in d:\\llm_ops\\vector_databases\\.venv\\lib\\site-packages (from requests->transformers<5.0.0,>=4.41.0->sentence-transformers) (3.10)\n",
      "Requirement already satisfied: urllib3<3,>=1.21.1 in d:\\llm_ops\\vector_databases\\.venv\\lib\\site-packages (from requests->transformers<5.0.0,>=4.41.0->sentence-transformers) (2.4.0)\n",
      "Requirement already satisfied: certifi>=2017.4.17 in d:\\llm_ops\\vector_databases\\.venv\\lib\\site-packages (from requests->transformers<5.0.0,>=4.41.0->sentence-transformers) (2025.4.26)\n",
      "Requirement already satisfied: joblib>=1.2.0 in d:\\llm_ops\\vector_databases\\.venv\\lib\\site-packages (from scikit-learn->sentence-transformers) (1.5.0)\n",
      "Requirement already satisfied: threadpoolctl>=3.1.0 in d:\\llm_ops\\vector_databases\\.venv\\lib\\site-packages (from scikit-learn->sentence-transformers) (3.6.0)\n"
     ]
    }
   ],
   "source": [
    "# Install required packages\n",
    "%pip install faiss-cpu numpy sentence-transformers python-dotenv"
   ]
  },
  {
   "cell_type": "code",
   "execution_count": 2,
   "id": "09a6aa78",
   "metadata": {},
   "outputs": [
    {
     "name": "stderr",
     "output_type": "stream",
     "text": [
      "d:\\LLM_OPS\\Vector_Databases\\.venv\\lib\\site-packages\\tqdm\\auto.py:21: TqdmWarning: IProgress not found. Please update jupyter and ipywidgets. See https://ipywidgets.readthedocs.io/en/stable/user_install.html\n",
      "  from .autonotebook import tqdm as notebook_tqdm\n"
     ]
    }
   ],
   "source": [
    "import faiss\n",
    "import numpy as np\n",
    "from sentence_transformers import SentenceTransformer\n",
    "from dotenv import load_dotenv\n",
    "import os\n",
    "import warnings"
   ]
  },
  {
   "cell_type": "code",
   "execution_count": 3,
   "id": "a99597cc",
   "metadata": {},
   "outputs": [],
   "source": [
    "# Suppress some warnings\n",
    "warnings.filterwarnings('ignore')"
   ]
  },
  {
   "cell_type": "code",
   "execution_count": 4,
   "id": "7069748a",
   "metadata": {},
   "outputs": [],
   "source": [
    "# Load environment variables (not needed for local embeddings, but kept for structure)\n",
    "load_dotenv()\n",
    "\n",
    "class LocalEmbedder:\n",
    "    def __init__(self, model_name='all-MiniLM-L6-v2'):\n",
    "        \"\"\"\n",
    "        Initialize with a local embedding model\n",
    "        Options: 'all-MiniLM-L6-v2' (fast, 384-dim), 'all-mpnet-base-v2' (slower, 768-dim)\n",
    "        \"\"\"\n",
    "        self.model = SentenceTransformer(model_name)\n",
    "        self.dimensions = self.model.get_sentence_embedding_dimension()\n",
    "        \n",
    "    def get_embedding(self, text):\n",
    "        \"\"\"Get embedding from local model\"\"\"\n",
    "        try:\n",
    "            return self.model.encode(text, convert_to_numpy=True, normalize_embeddings=True)\n",
    "        except Exception as e:\n",
    "            print(f\"⚠️ Embedding error: {str(e)}\")\n",
    "            return self._fallback_embedding(text)\n",
    "    \n",
    "    def _fallback_embedding(self, text):\n",
    "        \"\"\"Simpler fallback if main model fails\"\"\"\n",
    "        print(\"⚠️ Using fallback embedding method\")\n",
    "        words = text.lower().split()\n",
    "        embedding = np.zeros(self.dimensions, dtype=np.float32)\n",
    "        \n",
    "        # Basic word presence embedding\n",
    "        for word in words:\n",
    "            hash_val = hash(word) % self.dimensions\n",
    "            embedding[hash_val] = 1.0\n",
    "            \n",
    "        # Normalize\n",
    "        norm = np.linalg.norm(embedding)\n",
    "        return embedding / norm if norm > 0 else embedding"
   ]
  },
  {
   "cell_type": "code",
   "execution_count": 5,
   "id": "1195ff1c",
   "metadata": {},
   "outputs": [],
   "source": [
    "# Initialize embedder (384 dimensions for 'all-MiniLM-L6-v2')\n",
    "embedder = LocalEmbedder()\n"
   ]
  },
  {
   "cell_type": "code",
   "execution_count": 6,
   "id": "562c4d26",
   "metadata": {},
   "outputs": [],
   "source": [
    "# Sample texts\n",
    "texts = [\n",
    "    \"FAISS is a library for efficient similarity search.\",\n",
    "    \"It is developed by Facebook AI Research.\",\n",
    "    \"It supports cosine and L2 distance search.\",\n",
    "    \"You can use FAISS with local embeddings.\"\n",
    "]"
   ]
  },
  {
   "cell_type": "code",
   "execution_count": 7,
   "id": "d76e95f9",
   "metadata": {},
   "outputs": [
    {
     "name": "stdout",
     "output_type": "stream",
     "text": [
      "Generating embeddings...\n",
      "✅ Generated 4 embeddings of dimension 384\n"
     ]
    }
   ],
   "source": [
    "# Generate embeddings\n",
    "print(\"Generating embeddings...\")\n",
    "embeddings = np.array([embedder.get_embedding(text) for text in texts])\n",
    "print(f\"✅ Generated {len(embeddings)} embeddings of dimension {embeddings.shape[1]}\")"
   ]
  },
  {
   "cell_type": "code",
   "execution_count": 8,
   "id": "4dbac343",
   "metadata": {},
   "outputs": [
    {
     "data": {
      "text/plain": [
       "array([[-0.05062099, -0.07261783, -0.08909272, ...,  0.00162049,\n",
       "         0.10721246,  0.01419312],\n",
       "       [-0.07286035, -0.00755991, -0.08941661, ...,  0.10490253,\n",
       "         0.0536476 ,  0.01168776],\n",
       "       [-0.04875184,  0.00328672, -0.09100699, ...,  0.0371596 ,\n",
       "         0.01309524, -0.0072599 ],\n",
       "       [-0.01144552, -0.04123598, -0.0329535 , ..., -0.00409432,\n",
       "         0.08605338,  0.04142921]], dtype=float32)"
      ]
     },
     "execution_count": 8,
     "metadata": {},
     "output_type": "execute_result"
    }
   ],
   "source": [
    "embeddings"
   ]
  },
  {
   "cell_type": "code",
   "execution_count": 9,
   "id": "fa71cf01",
   "metadata": {},
   "outputs": [],
   "source": [
    "# Create FAISS index\n",
    "index = faiss.IndexFlatIP(embeddings.shape[1])  # Inner product = cosine similarity\n",
    "index.add(embeddings)"
   ]
  },
  {
   "cell_type": "code",
   "execution_count": 10,
   "id": "462e8d90",
   "metadata": {},
   "outputs": [],
   "source": [
    "# Store text mappings\n",
    "text_id_map = {i: text for i, text in enumerate(texts)}\n",
    "\n",
    "def search(query, k=2):\n",
    "    \"\"\"Search for similar texts\"\"\"\n",
    "    query_vector = embedder.get_embedding(query).reshape(1, -1)\n",
    "    distances, indices = index.search(query_vector, k)\n",
    "    \n",
    "    return [(text_id_map[idx], float(score)) \n",
    "            for idx, score in zip(indices[0], distances[0])]"
   ]
  },
  {
   "cell_type": "code",
   "execution_count": 11,
   "id": "4872575b",
   "metadata": {},
   "outputs": [
    {
     "name": "stdout",
     "output_type": "stream",
     "text": [
      "\n",
      "Search results:\n",
      "1. You can use FAISS with local embeddings. (Score: 0.4261)\n",
      "2. FAISS is a library for efficient similarity search. (Score: 0.3947)\n"
     ]
    }
   ],
   "source": [
    "# Example query\n",
    "query = \"What is FAISS?\"\n",
    "results = search(query)\n",
    "\n",
    "print(\"\\nSearch results:\")\n",
    "for i, (text, score) in enumerate(results):\n",
    "    print(f\"{i+1}. {text} (Score: {score:.4f})\")"
   ]
  }
 ],
 "metadata": {
  "kernelspec": {
   "display_name": ".venv",
   "language": "python",
   "name": "python3"
  },
  "language_info": {
   "codemirror_mode": {
    "name": "ipython",
    "version": 3
   },
   "file_extension": ".py",
   "mimetype": "text/x-python",
   "name": "python",
   "nbconvert_exporter": "python",
   "pygments_lexer": "ipython3",
   "version": "3.10.9"
  }
 },
 "nbformat": 4,
 "nbformat_minor": 5
}
